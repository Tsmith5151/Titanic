{
 "cells": [
  {
   "cell_type": "markdown",
   "metadata": {},
   "source": [
    "# Titanic: Survival Prediction "
   ]
  },
  {
   "cell_type": "code",
   "execution_count": 46,
   "metadata": {
    "collapsed": false
   },
   "outputs": [],
   "source": [
    "import pandas as pd\n",
    "import numpy as np\n",
    "import time as time\n",
    "from IPython.display import display \n",
    "\n",
    "import matplotlib.pyplot as plt\n",
    "import seaborn as sns\n",
    "sns.set_style(\"whitegrid\", {'axes.grid' : False})\n",
    "% matplotlib inline \n",
    "\n",
    "from sklearn.cross_validation import KFold\n",
    "from sklearn.grid_search import GridSearchCV\n",
    "from sklearn.ensemble import RandomForestClassifier\n",
    "from sklearn.naive_bayes import GaussianNB\n",
    "from sklearn.metrics import precision_recall_fscore_support, f1_score\n",
    "from sklearn.metrics import accuracy_score"
   ]
  },
  {
   "cell_type": "markdown",
   "metadata": {},
   "source": [
    "#### Load in Data"
   ]
  },
  {
   "cell_type": "code",
   "execution_count": 47,
   "metadata": {
    "collapsed": false
   },
   "outputs": [
    {
     "name": "stdout",
     "output_type": "stream",
     "text": [
      "Data Successfuly Loaded\n",
      "Total Observations: 891\n"
     ]
    }
   ],
   "source": [
    "try: #reading in data (training and testing)\n",
    "    df_train_raw = pd.read_csv(\"./Data/train.csv\",sep=\",\")\n",
    "    df_test_raw = pd.read_csv(\"./Data/test.csv\",sep=\",\")\n",
    "    print(\"Data Successfuly Loaded\")\n",
    "    print(\"Total Observations: {}\".format(df_train.shape[0]))\n",
    "except Exception as e:\n",
    "    print(str(e))"
   ]
  },
  {
   "cell_type": "markdown",
   "metadata": {},
   "source": [
    "From the Titanic dataset, the features for each passenger on the ship are as follows:\n",
    "\n",
    "- Survived: Outcome of survival (0 = No; 1 = Yes)\n",
    "- Pclass: Socio-economic class (1 = Upper class; 2 = Middle class; 3 = Lower class)\n",
    "- Name: Name of passenger\n",
    "- Sex: Sex of the passenger\n",
    "- Age: Age of the passenger (Some entries contain NaN)\n",
    "- SibSp: Number of siblings and spouses of the passenger aboard\n",
    "- Parch: Number of parents and children of the passenger aboard\n",
    "- Ticket: Ticket number of the passenger\n",
    "- Fare: Fare paid by the passenger\n",
    "- Cabin Cabin number of the passenger (Some entries contain NaN)\n",
    "- Embarked: Port of embarkation of the passenger (C = Cherbourg; Q = Queenstown; S = Southampton)"
   ]
  },
  {
   "cell_type": "markdown",
   "metadata": {},
   "source": [
    "**Training Set**"
   ]
  },
  {
   "cell_type": "code",
   "execution_count": 48,
   "metadata": {
    "collapsed": false
   },
   "outputs": [
    {
     "data": {
      "text/html": [
       "<div>\n",
       "<table border=\"1\" class=\"dataframe\">\n",
       "  <thead>\n",
       "    <tr style=\"text-align: right;\">\n",
       "      <th></th>\n",
       "      <th>PassengerId</th>\n",
       "      <th>Survived</th>\n",
       "      <th>Pclass</th>\n",
       "      <th>Name</th>\n",
       "      <th>Sex</th>\n",
       "      <th>Age</th>\n",
       "      <th>SibSp</th>\n",
       "      <th>Parch</th>\n",
       "      <th>Ticket</th>\n",
       "      <th>Fare</th>\n",
       "      <th>Cabin</th>\n",
       "      <th>Embarked</th>\n",
       "    </tr>\n",
       "  </thead>\n",
       "  <tbody>\n",
       "    <tr>\n",
       "      <th>0</th>\n",
       "      <td>1</td>\n",
       "      <td>0</td>\n",
       "      <td>3</td>\n",
       "      <td>Braund, Mr. Owen Harris</td>\n",
       "      <td>male</td>\n",
       "      <td>22.0</td>\n",
       "      <td>1</td>\n",
       "      <td>0</td>\n",
       "      <td>A/5 21171</td>\n",
       "      <td>7.2500</td>\n",
       "      <td>NaN</td>\n",
       "      <td>Southampton</td>\n",
       "    </tr>\n",
       "    <tr>\n",
       "      <th>1</th>\n",
       "      <td>2</td>\n",
       "      <td>1</td>\n",
       "      <td>1</td>\n",
       "      <td>Cumings, Mrs. John Bradley (Florence Briggs Th...</td>\n",
       "      <td>female</td>\n",
       "      <td>38.0</td>\n",
       "      <td>1</td>\n",
       "      <td>0</td>\n",
       "      <td>PC 17599</td>\n",
       "      <td>71.2833</td>\n",
       "      <td>C85</td>\n",
       "      <td>Cherbourg</td>\n",
       "    </tr>\n",
       "    <tr>\n",
       "      <th>2</th>\n",
       "      <td>3</td>\n",
       "      <td>1</td>\n",
       "      <td>3</td>\n",
       "      <td>Heikkinen, Miss. Laina</td>\n",
       "      <td>female</td>\n",
       "      <td>26.0</td>\n",
       "      <td>0</td>\n",
       "      <td>0</td>\n",
       "      <td>STON/O2. 3101282</td>\n",
       "      <td>7.9250</td>\n",
       "      <td>NaN</td>\n",
       "      <td>Southampton</td>\n",
       "    </tr>\n",
       "  </tbody>\n",
       "</table>\n",
       "</div>"
      ],
      "text/plain": [
       "   PassengerId  Survived  Pclass  \\\n",
       "0            1         0       3   \n",
       "1            2         1       1   \n",
       "2            3         1       3   \n",
       "\n",
       "                                                Name     Sex   Age  SibSp  \\\n",
       "0                            Braund, Mr. Owen Harris    male  22.0      1   \n",
       "1  Cumings, Mrs. John Bradley (Florence Briggs Th...  female  38.0      1   \n",
       "2                             Heikkinen, Miss. Laina  female  26.0      0   \n",
       "\n",
       "   Parch            Ticket     Fare Cabin     Embarked  \n",
       "0      0         A/5 21171   7.2500   NaN  Southampton  \n",
       "1      0          PC 17599  71.2833   C85    Cherbourg  \n",
       "2      0  STON/O2. 3101282   7.9250   NaN  Southampton  "
      ]
     },
     "execution_count": 48,
     "metadata": {},
     "output_type": "execute_result"
    }
   ],
   "source": [
    "df_train_raw.head(3)"
   ]
  },
  {
   "cell_type": "code",
   "execution_count": 49,
   "metadata": {
    "collapsed": false
   },
   "outputs": [
    {
     "name": "stdout",
     "output_type": "stream",
     "text": [
      "<class 'pandas.core.frame.DataFrame'>\n",
      "RangeIndex: 891 entries, 0 to 890\n",
      "Data columns (total 12 columns):\n",
      "PassengerId    891 non-null int64\n",
      "Survived       891 non-null int64\n",
      "Pclass         891 non-null int64\n",
      "Name           891 non-null object\n",
      "Sex            891 non-null object\n",
      "Age            714 non-null float64\n",
      "SibSp          891 non-null int64\n",
      "Parch          891 non-null int64\n",
      "Ticket         891 non-null object\n",
      "Fare           891 non-null float64\n",
      "Cabin          204 non-null object\n",
      "Embarked       891 non-null object\n",
      "dtypes: float64(2), int64(5), object(5)\n",
      "memory usage: 83.6+ KB\n"
     ]
    }
   ],
   "source": [
    "df_train_raw.info()"
   ]
  },
  {
   "cell_type": "code",
   "execution_count": 50,
   "metadata": {
    "collapsed": false
   },
   "outputs": [
    {
     "name": "stderr",
     "output_type": "stream",
     "text": [
      "/Users/tracesmith/anaconda/lib/python3.5/site-packages/numpy/lib/function_base.py:3834: RuntimeWarning: Invalid value encountered in percentile\n",
      "  RuntimeWarning)\n"
     ]
    },
    {
     "data": {
      "text/html": [
       "<div>\n",
       "<table border=\"1\" class=\"dataframe\">\n",
       "  <thead>\n",
       "    <tr style=\"text-align: right;\">\n",
       "      <th></th>\n",
       "      <th>PassengerId</th>\n",
       "      <th>Survived</th>\n",
       "      <th>Pclass</th>\n",
       "      <th>Age</th>\n",
       "      <th>SibSp</th>\n",
       "      <th>Parch</th>\n",
       "      <th>Fare</th>\n",
       "    </tr>\n",
       "  </thead>\n",
       "  <tbody>\n",
       "    <tr>\n",
       "      <th>count</th>\n",
       "      <td>891.000000</td>\n",
       "      <td>891.000000</td>\n",
       "      <td>891.000000</td>\n",
       "      <td>714.000000</td>\n",
       "      <td>891.000000</td>\n",
       "      <td>891.000000</td>\n",
       "      <td>891.000000</td>\n",
       "    </tr>\n",
       "    <tr>\n",
       "      <th>mean</th>\n",
       "      <td>446.000000</td>\n",
       "      <td>0.383838</td>\n",
       "      <td>2.308642</td>\n",
       "      <td>29.699118</td>\n",
       "      <td>0.523008</td>\n",
       "      <td>0.381594</td>\n",
       "      <td>32.204208</td>\n",
       "    </tr>\n",
       "    <tr>\n",
       "      <th>std</th>\n",
       "      <td>257.353842</td>\n",
       "      <td>0.486592</td>\n",
       "      <td>0.836071</td>\n",
       "      <td>14.526497</td>\n",
       "      <td>1.102743</td>\n",
       "      <td>0.806057</td>\n",
       "      <td>49.693429</td>\n",
       "    </tr>\n",
       "    <tr>\n",
       "      <th>min</th>\n",
       "      <td>1.000000</td>\n",
       "      <td>0.000000</td>\n",
       "      <td>1.000000</td>\n",
       "      <td>0.420000</td>\n",
       "      <td>0.000000</td>\n",
       "      <td>0.000000</td>\n",
       "      <td>0.000000</td>\n",
       "    </tr>\n",
       "    <tr>\n",
       "      <th>25%</th>\n",
       "      <td>223.500000</td>\n",
       "      <td>0.000000</td>\n",
       "      <td>2.000000</td>\n",
       "      <td>NaN</td>\n",
       "      <td>0.000000</td>\n",
       "      <td>0.000000</td>\n",
       "      <td>7.910400</td>\n",
       "    </tr>\n",
       "    <tr>\n",
       "      <th>50%</th>\n",
       "      <td>446.000000</td>\n",
       "      <td>0.000000</td>\n",
       "      <td>3.000000</td>\n",
       "      <td>NaN</td>\n",
       "      <td>0.000000</td>\n",
       "      <td>0.000000</td>\n",
       "      <td>14.454200</td>\n",
       "    </tr>\n",
       "    <tr>\n",
       "      <th>75%</th>\n",
       "      <td>668.500000</td>\n",
       "      <td>1.000000</td>\n",
       "      <td>3.000000</td>\n",
       "      <td>NaN</td>\n",
       "      <td>1.000000</td>\n",
       "      <td>0.000000</td>\n",
       "      <td>31.000000</td>\n",
       "    </tr>\n",
       "    <tr>\n",
       "      <th>max</th>\n",
       "      <td>891.000000</td>\n",
       "      <td>1.000000</td>\n",
       "      <td>3.000000</td>\n",
       "      <td>80.000000</td>\n",
       "      <td>8.000000</td>\n",
       "      <td>6.000000</td>\n",
       "      <td>512.329200</td>\n",
       "    </tr>\n",
       "  </tbody>\n",
       "</table>\n",
       "</div>"
      ],
      "text/plain": [
       "       PassengerId    Survived      Pclass         Age       SibSp  \\\n",
       "count   891.000000  891.000000  891.000000  714.000000  891.000000   \n",
       "mean    446.000000    0.383838    2.308642   29.699118    0.523008   \n",
       "std     257.353842    0.486592    0.836071   14.526497    1.102743   \n",
       "min       1.000000    0.000000    1.000000    0.420000    0.000000   \n",
       "25%     223.500000    0.000000    2.000000         NaN    0.000000   \n",
       "50%     446.000000    0.000000    3.000000         NaN    0.000000   \n",
       "75%     668.500000    1.000000    3.000000         NaN    1.000000   \n",
       "max     891.000000    1.000000    3.000000   80.000000    8.000000   \n",
       "\n",
       "            Parch        Fare  \n",
       "count  891.000000  891.000000  \n",
       "mean     0.381594   32.204208  \n",
       "std      0.806057   49.693429  \n",
       "min      0.000000    0.000000  \n",
       "25%      0.000000    7.910400  \n",
       "50%      0.000000   14.454200  \n",
       "75%      0.000000   31.000000  \n",
       "max      6.000000  512.329200  "
      ]
     },
     "execution_count": 50,
     "metadata": {},
     "output_type": "execute_result"
    }
   ],
   "source": [
    "df_train_raw.describe()"
   ]
  },
  {
   "cell_type": "code",
   "execution_count": 51,
   "metadata": {
    "collapsed": false
   },
   "outputs": [
    {
     "data": {
      "text/plain": [
       "PassengerId      0\n",
       "Survived         0\n",
       "Pclass           0\n",
       "Name             0\n",
       "Sex              0\n",
       "Age            177\n",
       "SibSp            0\n",
       "Parch            0\n",
       "Ticket           0\n",
       "Fare             0\n",
       "Cabin          687\n",
       "Embarked         0\n",
       "dtype: int64"
      ]
     },
     "execution_count": 51,
     "metadata": {},
     "output_type": "execute_result"
    }
   ],
   "source": [
    "#check how many na's per column feature\n",
    "df_train_raw.isnull().sum()"
   ]
  },
  {
   "cell_type": "code",
   "execution_count": 52,
   "metadata": {
    "collapsed": false
   },
   "outputs": [],
   "source": [
    "#Drop Columns not necessary for predictions:\n",
    "def drop_columns(df,columns):\n",
    "    '''Drop columns that are unimportant'''\n",
    "    df = df.drop(columns,axis=1)\n",
    "    return(df)\n",
    "\n",
    "columns = ['PassengerId','Name','Ticket','Cabin']\n",
    "df_train_reduced = drop_columns(df_train_raw,columns)"
   ]
  },
  {
   "cell_type": "code",
   "execution_count": 53,
   "metadata": {
    "collapsed": false
   },
   "outputs": [
    {
     "name": "stdout",
     "output_type": "stream",
     "text": [
      "Confirm rows with NA's are dropped:\n",
      "Survived    0\n",
      "Pclass      0\n",
      "Sex         0\n",
      "Age         0\n",
      "SibSp       0\n",
      "Parch       0\n",
      "Fare        0\n",
      "Embarked    0\n",
      "dtype: int64\n"
     ]
    }
   ],
   "source": [
    "# Drop the observations that contain a NA in column\n",
    "def drop_na(df):\n",
    "    '''Drop observations with missing values'''\n",
    "    df = df.dropna()\n",
    "    print(\"Confirm rows with NA's are dropped:\")\n",
    "    print(df.isnull().sum())\n",
    "    return(df)\n",
    "\n",
    "df_train_na = drop_na(df_train_reduced)\n",
    "df_train_na = df_train_na.reset_index()"
   ]
  },
  {
   "cell_type": "markdown",
   "metadata": {},
   "source": [
    "**Testing Set**"
   ]
  },
  {
   "cell_type": "code",
   "execution_count": 54,
   "metadata": {
    "collapsed": false
   },
   "outputs": [
    {
     "data": {
      "text/html": [
       "<div>\n",
       "<table border=\"1\" class=\"dataframe\">\n",
       "  <thead>\n",
       "    <tr style=\"text-align: right;\">\n",
       "      <th></th>\n",
       "      <th>PassengerId</th>\n",
       "      <th>Pclass</th>\n",
       "      <th>Name</th>\n",
       "      <th>Sex</th>\n",
       "      <th>Age</th>\n",
       "      <th>SibSp</th>\n",
       "      <th>Parch</th>\n",
       "      <th>Fare</th>\n",
       "      <th>Embarked</th>\n",
       "    </tr>\n",
       "  </thead>\n",
       "  <tbody>\n",
       "    <tr>\n",
       "      <th>0</th>\n",
       "      <td>892</td>\n",
       "      <td>3</td>\n",
       "      <td>Kelly, Mr. James</td>\n",
       "      <td>male</td>\n",
       "      <td>34.5</td>\n",
       "      <td>0</td>\n",
       "      <td>0</td>\n",
       "      <td>7.8292</td>\n",
       "      <td>Q</td>\n",
       "    </tr>\n",
       "  </tbody>\n",
       "</table>\n",
       "</div>"
      ],
      "text/plain": [
       "   PassengerId  Pclass              Name   Sex   Age  SibSp  Parch    Fare  \\\n",
       "0          892       3  Kelly, Mr. James  male  34.5      0      0  7.8292   \n",
       "\n",
       "  Embarked  \n",
       "0        Q  "
      ]
     },
     "execution_count": 54,
     "metadata": {},
     "output_type": "execute_result"
    }
   ],
   "source": [
    "df_test_raw.head(1)"
   ]
  },
  {
   "cell_type": "code",
   "execution_count": 55,
   "metadata": {
    "collapsed": false
   },
   "outputs": [
    {
     "name": "stderr",
     "output_type": "stream",
     "text": [
      "/Users/tracesmith/anaconda/lib/python3.5/site-packages/numpy/lib/function_base.py:3834: RuntimeWarning: Invalid value encountered in percentile\n",
      "  RuntimeWarning)\n"
     ]
    },
    {
     "data": {
      "text/html": [
       "<div>\n",
       "<table border=\"1\" class=\"dataframe\">\n",
       "  <thead>\n",
       "    <tr style=\"text-align: right;\">\n",
       "      <th></th>\n",
       "      <th>PassengerId</th>\n",
       "      <th>Pclass</th>\n",
       "      <th>Age</th>\n",
       "      <th>SibSp</th>\n",
       "      <th>Parch</th>\n",
       "      <th>Fare</th>\n",
       "    </tr>\n",
       "  </thead>\n",
       "  <tbody>\n",
       "    <tr>\n",
       "      <th>count</th>\n",
       "      <td>418.000000</td>\n",
       "      <td>418.000000</td>\n",
       "      <td>332.000000</td>\n",
       "      <td>418.000000</td>\n",
       "      <td>418.000000</td>\n",
       "      <td>417.000000</td>\n",
       "    </tr>\n",
       "    <tr>\n",
       "      <th>mean</th>\n",
       "      <td>1100.500000</td>\n",
       "      <td>2.265550</td>\n",
       "      <td>30.272590</td>\n",
       "      <td>0.447368</td>\n",
       "      <td>0.392344</td>\n",
       "      <td>35.627188</td>\n",
       "    </tr>\n",
       "    <tr>\n",
       "      <th>std</th>\n",
       "      <td>120.810458</td>\n",
       "      <td>0.841838</td>\n",
       "      <td>14.181209</td>\n",
       "      <td>0.896760</td>\n",
       "      <td>0.981429</td>\n",
       "      <td>55.907576</td>\n",
       "    </tr>\n",
       "    <tr>\n",
       "      <th>min</th>\n",
       "      <td>892.000000</td>\n",
       "      <td>1.000000</td>\n",
       "      <td>0.170000</td>\n",
       "      <td>0.000000</td>\n",
       "      <td>0.000000</td>\n",
       "      <td>0.000000</td>\n",
       "    </tr>\n",
       "    <tr>\n",
       "      <th>25%</th>\n",
       "      <td>996.250000</td>\n",
       "      <td>1.000000</td>\n",
       "      <td>NaN</td>\n",
       "      <td>0.000000</td>\n",
       "      <td>0.000000</td>\n",
       "      <td>NaN</td>\n",
       "    </tr>\n",
       "    <tr>\n",
       "      <th>50%</th>\n",
       "      <td>1100.500000</td>\n",
       "      <td>3.000000</td>\n",
       "      <td>NaN</td>\n",
       "      <td>0.000000</td>\n",
       "      <td>0.000000</td>\n",
       "      <td>NaN</td>\n",
       "    </tr>\n",
       "    <tr>\n",
       "      <th>75%</th>\n",
       "      <td>1204.750000</td>\n",
       "      <td>3.000000</td>\n",
       "      <td>NaN</td>\n",
       "      <td>1.000000</td>\n",
       "      <td>0.000000</td>\n",
       "      <td>NaN</td>\n",
       "    </tr>\n",
       "    <tr>\n",
       "      <th>max</th>\n",
       "      <td>1309.000000</td>\n",
       "      <td>3.000000</td>\n",
       "      <td>76.000000</td>\n",
       "      <td>8.000000</td>\n",
       "      <td>9.000000</td>\n",
       "      <td>512.329200</td>\n",
       "    </tr>\n",
       "  </tbody>\n",
       "</table>\n",
       "</div>"
      ],
      "text/plain": [
       "       PassengerId      Pclass         Age       SibSp       Parch        Fare\n",
       "count   418.000000  418.000000  332.000000  418.000000  418.000000  417.000000\n",
       "mean   1100.500000    2.265550   30.272590    0.447368    0.392344   35.627188\n",
       "std     120.810458    0.841838   14.181209    0.896760    0.981429   55.907576\n",
       "min     892.000000    1.000000    0.170000    0.000000    0.000000    0.000000\n",
       "25%     996.250000    1.000000         NaN    0.000000    0.000000         NaN\n",
       "50%    1100.500000    3.000000         NaN    0.000000    0.000000         NaN\n",
       "75%    1204.750000    3.000000         NaN    1.000000    0.000000         NaN\n",
       "max    1309.000000    3.000000   76.000000    8.000000    9.000000  512.329200"
      ]
     },
     "execution_count": 55,
     "metadata": {},
     "output_type": "execute_result"
    }
   ],
   "source": [
    "df_test_raw.describe()"
   ]
  },
  {
   "cell_type": "code",
   "execution_count": 56,
   "metadata": {
    "collapsed": false
   },
   "outputs": [],
   "source": [
    "#Drop Columns not necessary for predictions:\n",
    "columns = ['PassengerId']\n",
    "df_test_reduced = drop_columns(df_test_raw,columns)"
   ]
  },
  {
   "cell_type": "code",
   "execution_count": 57,
   "metadata": {
    "collapsed": false
   },
   "outputs": [
    {
     "data": {
      "text/plain": [
       "PassengerId     0\n",
       "Pclass          0\n",
       "Name            0\n",
       "Sex             0\n",
       "Age            86\n",
       "SibSp           0\n",
       "Parch           0\n",
       "Fare            1\n",
       "Embarked        0\n",
       "dtype: int64"
      ]
     },
     "execution_count": 57,
     "metadata": {},
     "output_type": "execute_result"
    }
   ],
   "source": [
    "#check the number of missing observations\n",
    "df_test.isnull().sum() "
   ]
  },
  {
   "cell_type": "code",
   "execution_count": 58,
   "metadata": {
    "collapsed": false
   },
   "outputs": [
    {
     "name": "stdout",
     "output_type": "stream",
     "text": [
      "Confirm rows with NA's are dropped:\n",
      "Pclass      0\n",
      "Name        0\n",
      "Sex         0\n",
      "Age         0\n",
      "SibSp       0\n",
      "Parch       0\n",
      "Fare        0\n",
      "Embarked    0\n",
      "dtype: int64\n"
     ]
    }
   ],
   "source": [
    "#call the drop_na function and pass the reduced test set (i.e. with removed features)\n",
    "df_test_na = drop_na(df_test_reduced)\n",
    "#rename to df_test_na and reset index \n",
    "df_test_na = df_test_na.reset_index()"
   ]
  },
  {
   "cell_type": "markdown",
   "metadata": {},
   "source": [
    "## Build Predictive Model"
   ]
  },
  {
   "cell_type": "markdown",
   "metadata": {},
   "source": [
    "- Base case: removing all of the missing values in each row per feature and splitting the \"training\" set into folds to perform cross-validation"
   ]
  },
  {
   "cell_type": "code",
   "execution_count": 59,
   "metadata": {
    "collapsed": false
   },
   "outputs": [
    {
     "name": "stdout",
     "output_type": "stream",
     "text": [
      "Total number of features: 7\n",
      "Total number of observations: 714\n"
     ]
    }
   ],
   "source": [
    "#first identify the features and labels\n",
    "X_all = df_train_na.ix[:,2:] #Features\n",
    "y = df_train_na.ix[:,1] # Labels\n",
    "print(\"Total number of features: {}\".format(X_all.shape[1]))\n",
    "print(\"Total number of observations: {}\".format(X_all.shape[0]))"
   ]
  },
  {
   "cell_type": "code",
   "execution_count": 60,
   "metadata": {
    "collapsed": false,
    "scrolled": false
   },
   "outputs": [],
   "source": [
    "def get_dummy_vars(X):\n",
    "    # Initialize new output DataFrame\n",
    "    df_preprocess = pd.DataFrame(index = X.index)\n",
    "\n",
    "    # Investigate each feature column for the data\n",
    "    for col_name, row in X.iteritems():\n",
    "        \n",
    "        print(col_name,row.dtype)\n",
    "        \n",
    "        # If data type is non-numeric, replace all yes/no values with 1/0\n",
    "        if row.dtype == object:\n",
    "            row = row.replace(['male', 'female'], [1, 0])\n",
    "\n",
    "        # If data type is categorical, convert to dummy variables\n",
    "        if row.dtype == object:\n",
    "            # Example: 'school' => 'school_GP' and 'school_MS'\n",
    "            row = pd.get_dummies(row, prefix = col_name)\n",
    "\n",
    "        # Collect the revised columns\n",
    "        df_preprocess = df_preprocess.join(row)\n",
    "    \n",
    "    return df_preprocess"
   ]
  },
  {
   "cell_type": "code",
   "execution_count": 61,
   "metadata": {
    "collapsed": false
   },
   "outputs": [
    {
     "name": "stdout",
     "output_type": "stream",
     "text": [
      "Pclass int64\n",
      "Sex object\n",
      "Age float64\n",
      "SibSp int64\n",
      "Parch int64\n",
      "Fare float64\n",
      "Embarked object\n"
     ]
    },
    {
     "data": {
      "text/html": [
       "<div>\n",
       "<table border=\"1\" class=\"dataframe\">\n",
       "  <thead>\n",
       "    <tr style=\"text-align: right;\">\n",
       "      <th></th>\n",
       "      <th>Pclass</th>\n",
       "      <th>Sex</th>\n",
       "      <th>Age</th>\n",
       "      <th>SibSp</th>\n",
       "      <th>Parch</th>\n",
       "      <th>Fare</th>\n",
       "      <th>Embarked_Cherbourg</th>\n",
       "      <th>Embarked_Queenstown</th>\n",
       "      <th>Embarked_Southampton</th>\n",
       "    </tr>\n",
       "  </thead>\n",
       "  <tbody>\n",
       "    <tr>\n",
       "      <th>0</th>\n",
       "      <td>3</td>\n",
       "      <td>1</td>\n",
       "      <td>22.0</td>\n",
       "      <td>1</td>\n",
       "      <td>0</td>\n",
       "      <td>7.2500</td>\n",
       "      <td>0.0</td>\n",
       "      <td>0.0</td>\n",
       "      <td>1.0</td>\n",
       "    </tr>\n",
       "    <tr>\n",
       "      <th>1</th>\n",
       "      <td>1</td>\n",
       "      <td>0</td>\n",
       "      <td>38.0</td>\n",
       "      <td>1</td>\n",
       "      <td>0</td>\n",
       "      <td>71.2833</td>\n",
       "      <td>1.0</td>\n",
       "      <td>0.0</td>\n",
       "      <td>0.0</td>\n",
       "    </tr>\n",
       "  </tbody>\n",
       "</table>\n",
       "</div>"
      ],
      "text/plain": [
       "   Pclass  Sex   Age  SibSp  Parch     Fare  Embarked_Cherbourg  \\\n",
       "0       3    1  22.0      1      0   7.2500                 0.0   \n",
       "1       1    0  38.0      1      0  71.2833                 1.0   \n",
       "\n",
       "   Embarked_Queenstown  Embarked_Southampton  \n",
       "0                  0.0                   1.0  \n",
       "1                  0.0                   0.0  "
      ]
     },
     "metadata": {},
     "output_type": "display_data"
    }
   ],
   "source": [
    "#check that the categorical variables are correctly modified\n",
    "X = get_dummy_vars(X_all)\n",
    "display(X.head(2))"
   ]
  },
  {
   "cell_type": "code",
   "execution_count": 170,
   "metadata": {
    "collapsed": true
   },
   "outputs": [],
   "source": [
    "def train_and_predict(clf,X_train,y_train,X_test,y_test):\n",
    "    '''Build a Basic Model for Predictions'''\n",
    "    '''No hyperparameters are tuned in this model'''\n",
    "    \n",
    "    #start time to run the model\n",
    "    start = time.time()\n",
    "   \n",
    "    #fit classifier to the training set\n",
    "    clf.fit(X_train,y_train)\n",
    "    \n",
    "    #predict using the Testing set held out from each fold\n",
    "    y_pred = clf.predict(X_test)\n",
    "\n",
    "    #Compute the accuracy for the actual label vs the predicted label\n",
    "    acc = accuracy_score(y_test,y_pred)\n",
    "    \n",
    "    #stop timing run\n",
    "    end  = time.time()\n",
    "    \n",
    "    #total run time\n",
    "    total_time = end -start\n",
    "    \n",
    "    #modify format of time h:m:s\n",
    "    m,s = divmod(total_time,60)\n",
    "    h,m = divmod(m,60)\n",
    "    time_format = \"%d:%02d:%02d\" % (h,m,s)\n",
    "    \n",
    "    return(acc,time_format)"
   ]
  },
  {
   "cell_type": "code",
   "execution_count": 171,
   "metadata": {
    "collapsed": false,
    "scrolled": false
   },
   "outputs": [],
   "source": [
    "def run_model(clf,X,y):\n",
    "    print(\"Model:\", clf.__class__.__name__)\n",
    "    print(\"*******************************\")\n",
    "\n",
    "    #initialize empty dataframe to store iteration results\n",
    "    df_summary = pd.DataFrame(columns=['Fold','Run Time','Accuracy'])\n",
    "\n",
    "    #Perform Cross-Validation\n",
    "    n_folds = 5 # number of fold; (i.e. 3, 5, or 10 are common; odd numbers perfered)\n",
    "    kf = KFold(len(X),n_folds,shuffle=True,random_state=1)\n",
    "\n",
    "    #iterate through the indicies identified from kf and assign training and test \n",
    "    # for x and y, respectively. Use '.loc' for slicing dataframe\n",
    "    for index,(train_index,test_index) in list(enumerate(kf,start=1)):\n",
    "        print(\"Kfold: \",index)\n",
    "        X_train = X.loc[train_index]; X_test = X.loc[test_index]\n",
    "        y_train = y.loc[train_index]; y_test = y.loc[test_index]\n",
    "\n",
    "        #Print out the dimensions of the training and testing sets\n",
    "        #double check the dimensions are correct\n",
    "        print(\"Train_Index:{}....\".format(train_index[1:10]))\n",
    "        print(\"Test_Index: {}....\".format(test_index[1:10]))\n",
    "        print(\"Train Size: \",X_train.shape[0])\n",
    "        print(\"Test Size: \",X_test.shape[0])\n",
    "\n",
    "        #Call the train_and_predict function and pass in training and testing sets\n",
    "        acc, time_form = train_and_predict(clf,X_train,y_train,X_test,y_test)\n",
    "        print(\"Run Time:\", time_form)\n",
    "        print(\"Accuracy: {0:.3f}%\".format(acc*100))    \n",
    "\n",
    "        #appending dataframe \n",
    "        df_summary = df_summary.append({'Fold': index,\n",
    "                           'Run Time': time_form,\n",
    "                           'Accuracy': acc},ignore_index=True)\n",
    "        print(\"===================================================\")\n",
    "\n",
    "    print(\"\\nSummary Statistics:\")\n",
    "    print(df_summary)\n",
    "\n",
    "    print(\"\\nAverage Accuracy: {0:.2f}%\".format(df_summary['Accuracy'].mean()*100))"
   ]
  },
  {
   "cell_type": "code",
   "execution_count": 172,
   "metadata": {
    "collapsed": false
   },
   "outputs": [
    {
     "name": "stdout",
     "output_type": "stream",
     "text": [
      "Model: GaussianNB\n",
      "*******************************\n",
      "Kfold:  1\n",
      "Train_Index:[ 1  4  5  7  9 10 11 12 14]....\n",
      "Test_Index: [ 3  6  8 13 16 17 19 23 34]....\n",
      "Train Size:  712\n",
      "Test Size:  179\n",
      "Run Time: 0:00:00\n",
      "Accuracy: 45.251%\n",
      "===================================================\n",
      "Kfold:  2\n",
      "Train_Index:[ 2  3  4  5  6  7  8  9 10]....\n",
      "Test_Index: [11 14 29 31 35 40 41 45 46]....\n",
      "Train Size:  713\n",
      "Test Size:  178\n",
      "Run Time: 0:00:00\n",
      "Accuracy: 42.697%\n",
      "===================================================\n",
      "Kfold:  3\n",
      "Train_Index:[ 1  2  3  6  7  8 10 11 13]....\n",
      "Test_Index: [ 5  9 12 18 27 30 33 38 39]....\n",
      "Train Size:  713\n",
      "Test Size:  178\n",
      "Run Time: 0:00:00\n",
      "Accuracy: 49.438%\n",
      "===================================================\n",
      "Kfold:  4\n",
      "Train_Index:[ 2  3  4  5  6  7  8  9 10]....\n",
      "Test_Index: [21 24 28 32 36 44 48 51 53]....\n",
      "Train Size:  713\n",
      "Test Size:  178\n",
      "Run Time: 0:00:00\n",
      "Accuracy: 44.944%\n",
      "===================================================\n",
      "Kfold:  5\n",
      "Train_Index:[ 1  2  3  4  5  6  8  9 11]....\n",
      "Test_Index: [10 15 20 22 25 26 37 43 64]....\n",
      "Train Size:  713\n",
      "Test Size:  178\n",
      "Run Time: 0:00:00\n",
      "Accuracy: 48.315%\n",
      "===================================================\n",
      "\n",
      "Summary Statistics:\n",
      "   Fold Run Time  Accuracy\n",
      "0   1.0  0:00:00  0.452514\n",
      "1   2.0  0:00:00  0.426966\n",
      "2   3.0  0:00:00  0.494382\n",
      "3   4.0  0:00:00  0.449438\n",
      "4   5.0  0:00:00  0.483146\n",
      "\n",
      "Average Accuracy: 46.13%\n"
     ]
    }
   ],
   "source": [
    "#considering the Naive Bayes Classification model for base case\n",
    "clf = GaussianNB() \n",
    "run_model(clf,X,y)"
   ]
  },
  {
   "cell_type": "markdown",
   "metadata": {},
   "source": [
    "## Sensitvity Analysis:\n",
    "\n",
    "** Consider several data imputation methods. First, let's look at replacing the data with only the Median values for the respected feature columns (i.e. Age column)**"
   ]
  },
  {
   "cell_type": "code",
   "execution_count": 173,
   "metadata": {
    "collapsed": false
   },
   "outputs": [],
   "source": [
    "#Training Set\n",
    "columns = ['PassengerId','Name','Ticket','Cabin']\n",
    "df_train_imp = drop_columns(df_train_raw,columns)"
   ]
  },
  {
   "cell_type": "code",
   "execution_count": 174,
   "metadata": {
    "collapsed": true
   },
   "outputs": [],
   "source": [
    "#Testing Set\n",
    "columns = ['PassengerId']\n",
    "df_test_imp = drop_columns(df_test_raw,columns)"
   ]
  },
  {
   "cell_type": "code",
   "execution_count": 175,
   "metadata": {
    "collapsed": false
   },
   "outputs": [],
   "source": [
    "#replace with the median age by group\n",
    "df_train_imp['Age'].fillna(df_train_imp[df_train_imp['Pclass'] == i]['Age'].median(),inplace=True)\n",
    "df_train_imp['Age'].fillna(df_train_imp[df_train_imp['Pclass'] == 2]['Age'].median(),inplace=True)\n",
    "df_train_imp['Age'].fillna(df_train_imp[df_train_imp['Pclass'] == 3]['Age'].median(),inplace=True)"
   ]
  },
  {
   "cell_type": "code",
   "execution_count": 176,
   "metadata": {
    "collapsed": false
   },
   "outputs": [
    {
     "data": {
      "text/html": [
       "<div>\n",
       "<table border=\"1\" class=\"dataframe\">\n",
       "  <thead>\n",
       "    <tr style=\"text-align: right;\">\n",
       "      <th></th>\n",
       "      <th>Survived</th>\n",
       "      <th>Pclass</th>\n",
       "      <th>Age</th>\n",
       "      <th>SibSp</th>\n",
       "      <th>Parch</th>\n",
       "      <th>Fare</th>\n",
       "    </tr>\n",
       "  </thead>\n",
       "  <tbody>\n",
       "    <tr>\n",
       "      <th>count</th>\n",
       "      <td>891.000000</td>\n",
       "      <td>891.000000</td>\n",
       "      <td>891.000000</td>\n",
       "      <td>891.000000</td>\n",
       "      <td>891.000000</td>\n",
       "      <td>891.000000</td>\n",
       "    </tr>\n",
       "    <tr>\n",
       "      <th>mean</th>\n",
       "      <td>0.383838</td>\n",
       "      <td>2.308642</td>\n",
       "      <td>31.149461</td>\n",
       "      <td>0.523008</td>\n",
       "      <td>0.381594</td>\n",
       "      <td>32.204208</td>\n",
       "    </tr>\n",
       "    <tr>\n",
       "      <th>std</th>\n",
       "      <td>0.486592</td>\n",
       "      <td>0.836071</td>\n",
       "      <td>13.324685</td>\n",
       "      <td>1.102743</td>\n",
       "      <td>0.806057</td>\n",
       "      <td>49.693429</td>\n",
       "    </tr>\n",
       "    <tr>\n",
       "      <th>min</th>\n",
       "      <td>0.000000</td>\n",
       "      <td>1.000000</td>\n",
       "      <td>0.420000</td>\n",
       "      <td>0.000000</td>\n",
       "      <td>0.000000</td>\n",
       "      <td>0.000000</td>\n",
       "    </tr>\n",
       "    <tr>\n",
       "      <th>25%</th>\n",
       "      <td>0.000000</td>\n",
       "      <td>2.000000</td>\n",
       "      <td>22.000000</td>\n",
       "      <td>0.000000</td>\n",
       "      <td>0.000000</td>\n",
       "      <td>7.910400</td>\n",
       "    </tr>\n",
       "    <tr>\n",
       "      <th>50%</th>\n",
       "      <td>0.000000</td>\n",
       "      <td>3.000000</td>\n",
       "      <td>32.000000</td>\n",
       "      <td>0.000000</td>\n",
       "      <td>0.000000</td>\n",
       "      <td>14.454200</td>\n",
       "    </tr>\n",
       "    <tr>\n",
       "      <th>75%</th>\n",
       "      <td>1.000000</td>\n",
       "      <td>3.000000</td>\n",
       "      <td>37.000000</td>\n",
       "      <td>1.000000</td>\n",
       "      <td>0.000000</td>\n",
       "      <td>31.000000</td>\n",
       "    </tr>\n",
       "    <tr>\n",
       "      <th>max</th>\n",
       "      <td>1.000000</td>\n",
       "      <td>3.000000</td>\n",
       "      <td>80.000000</td>\n",
       "      <td>8.000000</td>\n",
       "      <td>6.000000</td>\n",
       "      <td>512.329200</td>\n",
       "    </tr>\n",
       "  </tbody>\n",
       "</table>\n",
       "</div>"
      ],
      "text/plain": [
       "         Survived      Pclass         Age       SibSp       Parch        Fare\n",
       "count  891.000000  891.000000  891.000000  891.000000  891.000000  891.000000\n",
       "mean     0.383838    2.308642   31.149461    0.523008    0.381594   32.204208\n",
       "std      0.486592    0.836071   13.324685    1.102743    0.806057   49.693429\n",
       "min      0.000000    1.000000    0.420000    0.000000    0.000000    0.000000\n",
       "25%      0.000000    2.000000   22.000000    0.000000    0.000000    7.910400\n",
       "50%      0.000000    3.000000   32.000000    0.000000    0.000000   14.454200\n",
       "75%      1.000000    3.000000   37.000000    1.000000    0.000000   31.000000\n",
       "max      1.000000    3.000000   80.000000    8.000000    6.000000  512.329200"
      ]
     },
     "execution_count": 176,
     "metadata": {},
     "output_type": "execute_result"
    }
   ],
   "source": [
    "df_train_imp.describe()"
   ]
  },
  {
   "cell_type": "code",
   "execution_count": 180,
   "metadata": {
    "collapsed": false
   },
   "outputs": [
    {
     "name": "stdout",
     "output_type": "stream",
     "text": [
      "Total number of features: 6\n",
      "Total number of observations: 891\n"
     ]
    }
   ],
   "source": [
    "#first identify the features and labels\n",
    "X_all  = df_train_imp.ix[:,2:] #Features\n",
    "y1  = df_train_imp.ix[:,1] # Labels\n",
    "print(\"Total number of features: {}\".format(X_all.shape[1]))\n",
    "print(\"Total number of observations: {}\".format(X_all.shape[0]))"
   ]
  },
  {
   "cell_type": "code",
   "execution_count": 181,
   "metadata": {
    "collapsed": false
   },
   "outputs": [
    {
     "name": "stdout",
     "output_type": "stream",
     "text": [
      "Sex object\n",
      "Age float64\n",
      "SibSp int64\n",
      "Parch int64\n",
      "Fare float64\n",
      "Embarked object\n"
     ]
    },
    {
     "data": {
      "text/html": [
       "<div>\n",
       "<table border=\"1\" class=\"dataframe\">\n",
       "  <thead>\n",
       "    <tr style=\"text-align: right;\">\n",
       "      <th></th>\n",
       "      <th>Sex</th>\n",
       "      <th>Age</th>\n",
       "      <th>SibSp</th>\n",
       "      <th>Parch</th>\n",
       "      <th>Fare</th>\n",
       "      <th>Embarked_Cherbourg</th>\n",
       "      <th>Embarked_Queenstown</th>\n",
       "      <th>Embarked_Southampton</th>\n",
       "    </tr>\n",
       "  </thead>\n",
       "  <tbody>\n",
       "    <tr>\n",
       "      <th>0</th>\n",
       "      <td>1</td>\n",
       "      <td>22.0</td>\n",
       "      <td>1</td>\n",
       "      <td>0</td>\n",
       "      <td>7.2500</td>\n",
       "      <td>0.0</td>\n",
       "      <td>0.0</td>\n",
       "      <td>1.0</td>\n",
       "    </tr>\n",
       "    <tr>\n",
       "      <th>1</th>\n",
       "      <td>0</td>\n",
       "      <td>38.0</td>\n",
       "      <td>1</td>\n",
       "      <td>0</td>\n",
       "      <td>71.2833</td>\n",
       "      <td>1.0</td>\n",
       "      <td>0.0</td>\n",
       "      <td>0.0</td>\n",
       "    </tr>\n",
       "    <tr>\n",
       "      <th>2</th>\n",
       "      <td>0</td>\n",
       "      <td>26.0</td>\n",
       "      <td>0</td>\n",
       "      <td>0</td>\n",
       "      <td>7.9250</td>\n",
       "      <td>0.0</td>\n",
       "      <td>0.0</td>\n",
       "      <td>1.0</td>\n",
       "    </tr>\n",
       "  </tbody>\n",
       "</table>\n",
       "</div>"
      ],
      "text/plain": [
       "   Sex   Age  SibSp  Parch     Fare  Embarked_Cherbourg  Embarked_Queenstown  \\\n",
       "0    1  22.0      1      0   7.2500                 0.0                  0.0   \n",
       "1    0  38.0      1      0  71.2833                 1.0                  0.0   \n",
       "2    0  26.0      0      0   7.9250                 0.0                  0.0   \n",
       "\n",
       "   Embarked_Southampton  \n",
       "0                   1.0  \n",
       "1                   0.0  \n",
       "2                   1.0  "
      ]
     },
     "execution_count": 181,
     "metadata": {},
     "output_type": "execute_result"
    }
   ],
   "source": [
    "#check that the categorical variables are correctly modified\n",
    "X1 = get_dummy_vars(X_all_imp)\n",
    "X.head(3)"
   ]
  },
  {
   "cell_type": "code",
   "execution_count": 182,
   "metadata": {
    "collapsed": false
   },
   "outputs": [
    {
     "name": "stdout",
     "output_type": "stream",
     "text": [
      "Model: GaussianNB\n",
      "*******************************\n",
      "Kfold:  1\n",
      "Train_Index:[ 1  4  5  7  9 10 11 12 14]....\n",
      "Test_Index: [ 3  6  8 13 16 17 19 23 34]....\n",
      "Train Size:  712\n",
      "Test Size:  179\n",
      "Run Time: 0:00:00\n",
      "Accuracy: 45.251%\n",
      "===================================================\n",
      "Kfold:  2\n",
      "Train_Index:[ 2  3  4  5  6  7  8  9 10]....\n",
      "Test_Index: [11 14 29 31 35 40 41 45 46]....\n",
      "Train Size:  713\n",
      "Test Size:  178\n",
      "Run Time: 0:00:00\n",
      "Accuracy: 42.697%\n",
      "===================================================\n",
      "Kfold:  3\n",
      "Train_Index:[ 1  2  3  6  7  8 10 11 13]....\n",
      "Test_Index: [ 5  9 12 18 27 30 33 38 39]....\n",
      "Train Size:  713\n",
      "Test Size:  178\n",
      "Run Time: 0:00:00\n",
      "Accuracy: 49.438%\n",
      "===================================================\n",
      "Kfold:  4\n",
      "Train_Index:[ 2  3  4  5  6  7  8  9 10]....\n",
      "Test_Index: [21 24 28 32 36 44 48 51 53]....\n",
      "Train Size:  713\n",
      "Test Size:  178\n",
      "Run Time: 0:00:00\n",
      "Accuracy: 44.944%\n",
      "===================================================\n",
      "Kfold:  5\n",
      "Train_Index:[ 1  2  3  4  5  6  8  9 11]....\n",
      "Test_Index: [10 15 20 22 25 26 37 43 64]....\n",
      "Train Size:  713\n",
      "Test Size:  178\n",
      "Run Time: 0:00:00\n",
      "Accuracy: 48.315%\n",
      "===================================================\n",
      "\n",
      "Summary Statistics:\n",
      "   Fold Run Time  Accuracy\n",
      "0   1.0  0:00:00  0.452514\n",
      "1   2.0  0:00:00  0.426966\n",
      "2   3.0  0:00:00  0.494382\n",
      "3   4.0  0:00:00  0.449438\n",
      "4   5.0  0:00:00  0.483146\n",
      "\n",
      "Average Accuracy: 46.13%\n"
     ]
    }
   ],
   "source": [
    "clf = GaussianNB() #Initialize classifier \n",
    "run_model(clf,X1,y1) #call run_model --> which calls train_and_predict"
   ]
  },
  {
   "cell_type": "markdown",
   "metadata": {},
   "source": [
    "## Exploratory Analysis"
   ]
  },
  {
   "cell_type": "code",
   "execution_count": 33,
   "metadata": {
    "collapsed": false,
    "scrolled": false
   },
   "outputs": [
    {
     "name": "stdout",
     "output_type": "stream",
     "text": [
      "Survival Rate for Males: 18.891%\n",
      "Survival Rate for Females: 74.204%\n"
     ]
    },
    {
     "data": {
      "text/plain": [
       "<matplotlib.text.Text at 0x117fa32b0>"
      ]
     },
     "execution_count": 33,
     "metadata": {},
     "output_type": "execute_result"
    },
    {
     "data": {
      "image/png": "[encoded data removed]",
      "text/plain": [
       "<matplotlib.figure.Figure at 0x117f854a8>"
      ]
     },
     "metadata": {},
     "output_type": "display_data"
    }
   ],
   "source": [
    "df = pd.DataFrame()\n",
    "df['Total'] = df_train.groupby('Sex').size()\n",
    "df['Survived'] = df_train.groupby('Sex').sum()['Survived']\n",
    "df['Survival_Rate'] = (df['Survived']/ df['Total'])*100\n",
    "\n",
    "print(\"Survival Rate for Males: {}%\".format(np.round(df.ix[1,2],3)))\n",
    "print(\"Survival Rate for Females: {}%\".format(np.round(df.ix[0,2],3)))\n",
    "\n",
    "plt.figure(figsize=(8,6))\n",
    "df['Total'].plot(kind='bar',color='red')\n",
    "df['Survived'].plot(kind='bar',color=\"green\")\n",
    "plt.xlabel(\"Gender\")\n",
    "plt.ylabel(\"Total Passengers\")\n",
    "plt.title(\"Survival Rate per Gender\",fontsize=18)"
   ]
  },
  {
   "cell_type": "code",
   "execution_count": 35,
   "metadata": {
    "collapsed": false
   },
   "outputs": [
    {
     "data": {
      "text/plain": [
       "<matplotlib.text.Text at 0x117ed8390>"
      ]
     },
     "execution_count": 35,
     "metadata": {},
     "output_type": "execute_result"
    },
    {
     "data": {
      "image/png": "[encoded data removed]",
      "text/plain": [
       "<matplotlib.figure.Figure at 0x117e5aa58>"
      ]
     },
     "metadata": {},
     "output_type": "display_data"
    }
   ],
   "source": [
    "df_train['Age'].plot(kind='hist',color=\"blue\",edgecolor=\"w\",alpha=0.60)\n",
    "plt.title(\"Age Histogram\",fontsize=18)\n",
    "plt.xlabel(\"Age\")"
   ]
  },
  {
   "cell_type": "code",
   "execution_count": 36,
   "metadata": {
    "collapsed": false
   },
   "outputs": [
    {
     "data": {
      "text/plain": [
       "<matplotlib.figure.Figure at 0x117ec39e8>"
      ]
     },
     "metadata": {},
     "output_type": "display_data"
    },
    {
     "data": {
      "image/png": "[encoded data removed]",
      "text/plain": [
       "<matplotlib.figure.Figure at 0x117e8b0f0>"
      ]
     },
     "metadata": {},
     "output_type": "display_data"
    }
   ],
   "source": [
    "plt.figure(figsize=(6,6))\n",
    "g = sns.factorplot(\"Sex\", hue=\"Sex\", y=\"Age\", data=df_train, kind=\"box\",\n",
    "                   linewidth=2.0,palette=\"Set2\")\n",
    "g.add_legend(title=\"Gender\")\n",
    "plt.title(\"Avg and Gender Boxplot\")\n",
    "plt.show()"
   ]
  },
  {
   "cell_type": "code",
   "execution_count": 37,
   "metadata": {
    "collapsed": false
   },
   "outputs": [
    {
     "data": {
      "text/plain": [
       "<matplotlib.figure.Figure at 0x11af507f0>"
      ]
     },
     "metadata": {},
     "output_type": "display_data"
    },
    {
     "data": {
      "image/png": "[encoded data removed]",
      "text/plain": [
       "<matplotlib.figure.Figure at 0x11acb42b0>"
      ]
     },
     "metadata": {},
     "output_type": "display_data"
    }
   ],
   "source": [
    "plt.figure(figsize=(6,6))\n",
    "g = sns.factorplot(\"Sex\", hue=\"Sex\", y=\"Fare\", data=df_train, kind=\"box\",\n",
    "                   linewidth=2.0,palette=\"Set2\")\n",
    "g.add_legend(title=\"Gender\")\n",
    "plt.title(\"Avg and Fare Boxplot\")\n",
    "plt.show()"
   ]
  }
 ],
 "metadata": {
  "anaconda-cloud": {},
  "kernelspec": {
   "display_name": "Python [default]",
   "language": "python",
   "name": "python3"
  },
  "language_info": {
   "codemirror_mode": {
    "name": "ipython",
    "version": 3
   },
   "file_extension": ".py",
   "mimetype": "text/x-python",
   "name": "python",
   "nbconvert_exporter": "python",
   "pygments_lexer": "ipython3",
   "version": "3.5.2"
  }
 },
 "nbformat": 4,
 "nbformat_minor": 0
}
